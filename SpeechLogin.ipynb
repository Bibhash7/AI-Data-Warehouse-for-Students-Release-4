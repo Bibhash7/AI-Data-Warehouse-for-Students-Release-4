{
 "cells": [
  {
   "cell_type": "code",
   "execution_count": 57,
   "id": "f67eaf3f-f381-4b74-b560-57f8792e88f1",
   "metadata": {},
   "outputs": [],
   "source": [
    "def SpeechRecognizer():\n",
    "    recognizer = speechR.Recognizer()\n",
    "    startTime = time.time()\n",
    "    while time.time()<startTime+7:\n",
    "        try:\n",
    "            with speechR.Microphone() as mic:\n",
    "                recognizer.adjust_for_ambient_noise(mic,duration = 0.2)\n",
    "                audio = recognizer.listen(mic)\n",
    "                text = recognizer.recognize_google(audio)\n",
    "                text = text.lower()\n",
    "                return text\n",
    "        except Exception as e:\n",
    "            recognizer = speechR.Recognizer()\n",
    "            continue"
   ]
  },
  {
   "cell_type": "code",
   "execution_count": null,
   "id": "f2bc9fc8-4b58-4c24-a94a-dc1d3c232f77",
   "metadata": {},
   "outputs": [],
   "source": []
  }
 ],
 "metadata": {
  "kernelspec": {
   "display_name": "Python 3 (ipykernel)",
   "language": "python",
   "name": "python3"
  },
  "language_info": {
   "codemirror_mode": {
    "name": "ipython",
    "version": 3
   },
   "file_extension": ".py",
   "mimetype": "text/x-python",
   "name": "python",
   "nbconvert_exporter": "python",
   "pygments_lexer": "ipython3",
   "version": "3.7.11"
  }
 },
 "nbformat": 4,
 "nbformat_minor": 5
}
