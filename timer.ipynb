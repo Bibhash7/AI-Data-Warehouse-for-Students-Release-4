{
 "cells": [
  {
   "cell_type": "code",
   "execution_count": 22,
   "id": "e2525061-b7d8-47b8-a103-3caa87aa6f3d",
   "metadata": {},
   "outputs": [],
   "source": [
    "def countdown(t):\n",
    "    while t>=0:\n",
    "        mins, secs = divmod(t, 60)\n",
    "        timer = '{:02d}:{:02d}'.format(mins, secs)\n",
    "        print(\"Please wait for: \",timer, end=\"\\r\")\n",
    "        time.sleep(1)\n",
    "        t -= 1\n",
    "    #print(t)\n",
    "    if(t == -1):\n",
    "        print(\"Session Restored, Admin can login now:       \",end=\"\\r\")"
   ]
  },
  {
   "cell_type": "code",
   "execution_count": null,
   "id": "3fe13746-3fb2-4bd8-b329-8c152d1fd79e",
   "metadata": {},
   "outputs": [],
   "source": []
  }
 ],
 "metadata": {
  "kernelspec": {
   "display_name": "Python 3 (ipykernel)",
   "language": "python",
   "name": "python3"
  },
  "language_info": {
   "codemirror_mode": {
    "name": "ipython",
    "version": 3
   },
   "file_extension": ".py",
   "mimetype": "text/x-python",
   "name": "python",
   "nbconvert_exporter": "python",
   "pygments_lexer": "ipython3",
   "version": "3.7.11"
  }
 },
 "nbformat": 4,
 "nbformat_minor": 5
}
