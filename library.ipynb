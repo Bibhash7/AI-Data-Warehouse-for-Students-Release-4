{
 "cells": [
  {
   "cell_type": "code",
   "execution_count": 2,
   "id": "ea8743dd-e0bc-440c-83c3-e0ad66f24a81",
   "metadata": {},
   "outputs": [],
   "source": [
    "############   All Important Packages #############################################################\n",
    "\n",
    "import os.path\n",
    "import psycopg2\n",
    "import time\n",
    "from plyer import notification\n",
    "from datetime import date\n",
    "from datetime import datetime, timezone\n",
    "import cv2\n",
    "import matplotlib.pyplot as plt\n",
    "import pytesseract\n",
    "import speech_recognition as speechR\n",
    "import pyttsx3\n",
    "import colored\n",
    "import hashlib\n",
    "from prettytable import PrettyTable\n",
    "pytesseract.pytesseract.tesseract_cmd = 'C:\\\\Program Files\\\\Tesseract-OCR\\\\tesseract.exe'"
   ]
  },
  {
   "cell_type": "code",
   "execution_count": null,
   "id": "50ce2f13-133d-428e-9a1e-6b6c03bce1f3",
   "metadata": {},
   "outputs": [],
   "source": []
  }
 ],
 "metadata": {
  "kernelspec": {
   "display_name": "Python 3 (ipykernel)",
   "language": "python",
   "name": "python3"
  },
  "language_info": {
   "codemirror_mode": {
    "name": "ipython",
    "version": 3
   },
   "file_extension": ".py",
   "mimetype": "text/x-python",
   "name": "python",
   "nbconvert_exporter": "python",
   "pygments_lexer": "ipython3",
   "version": "3.7.11"
  }
 },
 "nbformat": 4,
 "nbformat_minor": 5
}
