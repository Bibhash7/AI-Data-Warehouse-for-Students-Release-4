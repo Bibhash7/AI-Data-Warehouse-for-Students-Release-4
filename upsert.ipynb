{
 "cells": [
  {
   "cell_type": "code",
   "execution_count": 2,
   "id": "f4c3b958-f305-46bd-9f1b-d9da15587d31",
   "metadata": {},
   "outputs": [],
   "source": [
    "def dropPK():\n",
    "    pk_drop = \"ALTER TABLE result DROP CONSTRAINT result_pkey;\"\n",
    "    cursor.execute(pk_drop)\n",
    "    conn.commit()"
   ]
  },
  {
   "cell_type": "code",
   "execution_count": 3,
   "id": "20cd29a9-b7fa-4526-8643-2dd1ca481019",
   "metadata": {},
   "outputs": [],
   "source": [
    "def addPK():\n",
    "    pk_add = \"ALTER TABLE result ADD CONSTRAINT result_pkey PRIMARY KEY(sid);\"\n",
    "    cursor.execute(pk_add)\n",
    "    conn.commit()"
   ]
  },
  {
   "cell_type": "code",
   "execution_count": 4,
   "id": "47b592b7-aa9b-4f8f-8109-534ea3eb2bef",
   "metadata": {},
   "outputs": [],
   "source": [
    "def UPSERT():\n",
    "    max_time = \"select max(createtime) from result\";\n",
    "    cursor.execute(max_time);\n",
    "    data = cursor.fetchone()\n",
    "    if data[0] == None:\n",
    "        bulkInsert = \"insert into result (name,dept,sid,marks,total,percentage,status,date_of_exam,createtime,upttime,deleted) select * from student;\"\n",
    "        cursor.execute(bulkInsert)\n",
    "        conn.commit()\n",
    "    else:\n",
    "        to_insert = f\"select * from student where createtime>'{data[0]}';\"\n",
    "        to_update = f\"select * from student where createtime<='{data[0]}';\"\n",
    "        cursor.execute(to_update)\n",
    "        data = cursor.fetchall();\n",
    "        #print(data)\n",
    "        for i in range(len(data)):\n",
    "            update_query = f\"update result set name = '{data[i][0]}', upttime = '{data[i][8]}', deleted = '{data[i][10]}' where sid = {data[i][2]};\"\n",
    "            cursor.execute(update_query);\n",
    "        conn.commit()\n",
    "        cursor.execute(to_insert);\n",
    "        data = cursor.fetchall();\n",
    "        if(len(data)>0):\n",
    "            dropPK();\n",
    "            p = data[0][3]\n",
    "            marks = \"{\"\n",
    "            for k in p:\n",
    "                marks+=\"{},\".format(str(k))\n",
    "            marks=marks[:-1]\n",
    "            marks+=\"}\"\n",
    "            for i in range(len(data)):\n",
    "                insert_query = \"insert into result values('{}','{}',{},'{}',{},{},'{}','{}','{}','{}','{}');\".format(\n",
    "                    data[i][0],data[i][1],data[i][2],marks,data[i][4],data[i][5],data[i][6],data[i][7],data[i][8],data[i][9],\n",
    "                    data[i][10])\n",
    "                cursor.execute(insert_query)\n",
    "            conn.commit()\n",
    "            addPK()\n",
    "    print(\"Success\")"
   ]
  },
  {
   "cell_type": "code",
   "execution_count": null,
   "id": "3fd7ebe7-bcce-407c-afe2-3cf821ed55a4",
   "metadata": {},
   "outputs": [],
   "source": []
  }
 ],
 "metadata": {
  "kernelspec": {
   "display_name": "Python 3 (ipykernel)",
   "language": "python",
   "name": "python3"
  },
  "language_info": {
   "codemirror_mode": {
    "name": "ipython",
    "version": 3
   },
   "file_extension": ".py",
   "mimetype": "text/x-python",
   "name": "python",
   "nbconvert_exporter": "python",
   "pygments_lexer": "ipython3",
   "version": "3.7.11"
  }
 },
 "nbformat": 4,
 "nbformat_minor": 5
}
