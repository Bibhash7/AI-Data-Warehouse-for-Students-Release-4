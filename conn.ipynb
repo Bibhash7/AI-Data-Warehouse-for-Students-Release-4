{
 "cells": [
  {
   "cell_type": "code",
   "execution_count": null,
   "id": "5f8ea4af-5987-4901-b693-f12aea5bf1a8",
   "metadata": {},
   "outputs": [],
   "source": [
    "########### PostGres Connection and Global Variables ########################################\n",
    "\n",
    "conn = psycopg2.connect(\n",
    "   database=\"myDB\", user='postgres', password='123456', host='127.0.0.1', port= '5432'\n",
    ")\n",
    "cursor = conn.cursor()\n",
    "adminLoginCount = 0\n",
    "noOfAttemptsToLogin = 3"
   ]
  }
 ],
 "metadata": {
  "kernelspec": {
   "display_name": "Python 3 (ipykernel)",
   "language": "python",
   "name": "python3"
  },
  "language_info": {
   "codemirror_mode": {
    "name": "ipython",
    "version": 3
   },
   "file_extension": ".py",
   "mimetype": "text/x-python",
   "name": "python",
   "nbconvert_exporter": "python",
   "pygments_lexer": "ipython3",
   "version": "3.7.11"
  }
 },
 "nbformat": 4,
 "nbformat_minor": 5
}
